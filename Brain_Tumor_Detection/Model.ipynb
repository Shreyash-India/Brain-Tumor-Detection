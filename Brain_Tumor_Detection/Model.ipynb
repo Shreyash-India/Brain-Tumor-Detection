{
 "cells": [
  {
   "cell_type": "code",
   "execution_count": 137,
   "id": "29c99665",
   "metadata": {},
   "outputs": [],
   "source": [
    "import joblib\n",
    "import numpy as np, cv2\n",
    "import os\n",
    "from matplotlib import pyplot as plt"
   ]
  },
  {
   "cell_type": "code",
   "execution_count": 140,
   "id": "90869fdd",
   "metadata": {
    "scrolled": false
   },
   "outputs": [],
   "source": [
    "## Load Model\n",
    "model = joblib.load('BrainTumor.sav')\n",
    "tumor_label = 2 ##[ cluster no 3]\n",
    "thres = 1200"
   ]
  },
  {
   "cell_type": "markdown",
   "id": "3b4825ce",
   "metadata": {},
   "source": [
    "# Case 1\n",
    "{{ % Prediction of Model }} if you have Brain Tumor and model predicts you have Brain Tumor Correctly"
   ]
  },
  {
   "cell_type": "code",
   "execution_count": 141,
   "id": "fadb747d",
   "metadata": {},
   "outputs": [
    {
     "name": "stdout",
     "output_type": "stream",
     "text": [
      "Accuracy % 0.8142857142857143\n"
     ]
    }
   ],
   "source": [
    "root = r'C:\\Users\\KIIT\\Tensorflow\\Brain_Tumor\\Brain_Tumor_Detection\\brain_tumor_dataset\\yes'\n",
    "brain_tumor_images = os.listdir(root)\n",
    "\n",
    "class Model:\n",
    "    def Prediction(self):\n",
    "        predict = 0\n",
    "        for image in brain_tumor_images:\n",
    "            reset = True\n",
    "            maxArea = 0\n",
    "            Index = -1\n",
    "            c = 0\n",
    "\n",
    "            img_path = os.path.join(root, image)\n",
    "            img = cv2.imread(img_path, 0)                ## Gray Scale \n",
    "            img_ = cv2.imread(img_path)                  ## RGB \n",
    "\n",
    "            height, width = img.shape                    ## Image Dimmensions\n",
    "            imgFlatten = img.reshape(height * width, 1)  ## 2D -> 1D \n",
    "            label = model.predict(imgFlatten)\n",
    "            \n",
    "            label2D = label.reshape(height, width)\n",
    "            mask = (label2D==tumor_label)\n",
    "\n",
    "            tumor_extracted = np.bitwise_and(mask, img)\n",
    "            ## Contours\n",
    "            (image, contours, hierarchy) = cv2.findContours(tumor_extracted, cv2.RETR_TREE, cv2.CHAIN_APPROX_SIMPLE)\n",
    "\n",
    "            for In, contour in enumerate(contours):\n",
    "                contour_area = cv2.contourArea(contour)      \n",
    "                if(contour_area > thres and contour_area > maxArea):\n",
    "                    maxArea = max(maxArea, contour_area)\n",
    "                    Index, c = In, contour\n",
    "                    \n",
    "                    if(reset):\n",
    "                        predict += 1\n",
    "                        reset = False\n",
    "\n",
    "            if(maxArea>0 and Index!=-1):\n",
    "                ## Draw Contours\n",
    "                cv2.drawContours(img_, contours, Index, (0,234,255), 1)\n",
    "                (x,y,w,h) = cv2.boundingRect(c)\n",
    "                cv2.rectangle(img_, (x, y), (x+w, y+h), (0,255,0), 2)\n",
    "                cv2.rectangle(img_, (x, y), (x+120, y-40), (0,255,0), -1)\n",
    "                cv2.putText(img_, \"Tumor\", (x+10, y-10), cv2.FONT_HERSHEY_SIMPLEX, 1, (255,255,255), 2)\n",
    "\n",
    "            cv2.imshow('Brain Tumor', img_)\n",
    "            key = cv2.waitKey(500)\n",
    "            if(key==27):  break\n",
    "\n",
    "        print('Accuracy %', predict/len(brain_tumor_images))\n",
    "        cv2.destroyAllWindows()\n",
    "obj = Model()\n",
    "obj.Prediction()"
   ]
  },
  {
   "cell_type": "markdown",
   "id": "8ff8d7b4",
   "metadata": {},
   "source": [
    "# Case 2\n",
    "{{ % Prediction of Model }} if you have Don't Brain Tumor and model predicts  you have Don't Brain Tumor Correctly"
   ]
  },
  {
   "cell_type": "code",
   "execution_count": 142,
   "id": "f7892c76",
   "metadata": {},
   "outputs": [
    {
     "name": "stdout",
     "output_type": "stream",
     "text": [
      "Accuracy % 0.8378378378378378\n"
     ]
    }
   ],
   "source": [
    "root = r'C:\\Users\\KIIT\\Tensorflow\\Brain_Tumor\\Brain_Tumor_Detection\\brain_tumor_dataset\\no'\n",
    "brain_tumor_images = os.listdir(root)\n",
    "\n",
    "class Model:\n",
    "    def Prediction(self):\n",
    "        predict = 0\n",
    "        for image in brain_tumor_images:\n",
    "            reset = True\n",
    "            maxArea = 0\n",
    "            Index = -1\n",
    "            c = 0\n",
    "\n",
    "            img_path = os.path.join(root, image)\n",
    "            img = cv2.imread(img_path, 0)                ## Gray Scale \n",
    "            img_ = cv2.imread(img_path)                  ## RGB \n",
    "\n",
    "            height, width = img.shape                    ## Image Dimmensions\n",
    "            imgFlatten = img.reshape(height * width, 1)  ## 2D -> 1D \n",
    "            label = model.predict(imgFlatten)\n",
    "            \n",
    "            label2D = label.reshape(height, width)\n",
    "            mask = (label2D==tumor_label)\n",
    "\n",
    "            tumor_extracted = np.bitwise_and(mask, img)\n",
    "            ## Contours\n",
    "            (image, contours, hierarchy) = cv2.findContours(tumor_extracted, cv2.RETR_TREE, cv2.CHAIN_APPROX_SIMPLE)\n",
    "\n",
    "            for In, contour in enumerate(contours):\n",
    "                contour_area = cv2.contourArea(contour)      \n",
    "                if(contour_area > thres and contour_area > maxArea):\n",
    "                    maxArea = max(maxArea, contour_area)\n",
    "                    Index, c = In, contour\n",
    "                    \n",
    "                    if(reset):\n",
    "                        predict += 1\n",
    "                        reset = False\n",
    "\n",
    "            if(maxArea>0 and Index!=-1):\n",
    "                ## Draw Contours\n",
    "                cv2.drawContours(img_, contours, Index, (0,234,255), 1)\n",
    "                (x,y,w,h) = cv2.boundingRect(c)\n",
    "                cv2.rectangle(img_, (x, y), (x+w, y+h), (0,255,0), 2)\n",
    "                cv2.rectangle(img_, (x, y), (x+120, y-40), (0,255,0), -1)\n",
    "                cv2.putText(img_, \"Tumor\", (x+10, y-10), cv2.FONT_HERSHEY_SIMPLEX, 1, (255,255,255), 2)\n",
    "\n",
    "            cv2.imshow('Brain Tumor', img_)\n",
    "            key = cv2.waitKey(500)\n",
    "            if(key==27):  break\n",
    "\n",
    "        print('Accuracy %', (len(brain_tumor_images) - predict)/len(brain_tumor_images))\n",
    "        cv2.destroyAllWindows()\n",
    "obj = Model()\n",
    "obj.Prediction()"
   ]
  }
 ],
 "metadata": {
  "kernelspec": {
   "display_name": "Python 3 (ipykernel)",
   "language": "python",
   "name": "python3"
  },
  "language_info": {
   "codemirror_mode": {
    "name": "ipython",
    "version": 3
   },
   "file_extension": ".py",
   "mimetype": "text/x-python",
   "name": "python",
   "nbconvert_exporter": "python",
   "pygments_lexer": "ipython3",
   "version": "3.7.11"
  }
 },
 "nbformat": 4,
 "nbformat_minor": 5
}
